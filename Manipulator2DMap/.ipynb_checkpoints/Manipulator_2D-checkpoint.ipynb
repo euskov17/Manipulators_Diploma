{
 "cells": [
  {
   "cell_type": "code",
   "execution_count": 21,
   "id": "2d328e51-a175-4d32-a079-4d1f49d97467",
   "metadata": {
    "tags": []
   },
   "outputs": [],
   "source": [
    "import numpy as np\n",
    "import matplotlib.pyplot as plt\n",
    "import itertools\n",
    "import time\n",
    "from functools import lru_cache\n",
    "import heapq\n",
    "from matplotlib.widgets import Slider\n",
    "from ipywidgets import interact\n",
    "%matplotlib inline\n",
    "\n",
    "PI = np.pi\n",
    "TWO_PI = 2 * np.pi"
   ]
  },
  {
   "cell_type": "code",
   "execution_count": 14,
   "id": "f20717d1-c242-4a19-be16-43ea7d597908",
   "metadata": {
    "tags": []
   },
   "outputs": [
    {
     "data": {
      "text/plain": [
       "(array([[ 0,  0,  1],\n",
       "        [ 0,  1,  1],\n",
       "        [ 1,  1,  1],\n",
       "        [ 0,  0, -1],\n",
       "        [ 0, -1, -1],\n",
       "        [-1, -1, -1]]),\n",
       " array([0.1, 0.1, 0.1, 0.1, 0.1, 0.1]))"
      ]
     },
     "execution_count": 14,
     "metadata": {},
     "output_type": "execute_result"
    }
   ],
   "source": [
    "num_joints = 3\n",
    "deltas = np.array([1/10] * num_joints)\n",
    "\n",
    "solo_positive_moves = [[0] * (num_joints - i) + [1] * i for i in range(1, num_joints + 1)]\n",
    "solo_negative_moves = [[0] * (num_joints - i) + [-1] * i for i in range(1, num_joints + 1)]\n",
    "moves = np.array(solo_positive_moves + solo_negative_moves)\n",
    "move_costs = np.stack([deltas, deltas], axis = 0).flatten()\n",
    "moves, move_costs"
   ]
  },
  {
   "cell_type": "code",
   "execution_count": 16,
   "id": "26b31541-c6b4-431d-a07b-fb5c68d9e030",
   "metadata": {
    "tags": []
   },
   "outputs": [
    {
     "data": {
      "text/plain": [
       "array([[ 0.,  0.,  0.],\n",
       "       [ 0.,  1.,  1.],\n",
       "       [ 0.,  0.,  2.],\n",
       "       [-0., -0., -0.],\n",
       "       [-0., -1., -1.],\n",
       "       [-0., -0., -2.]])"
      ]
     },
     "execution_count": 16,
     "metadata": {},
     "output_type": "execute_result"
    }
   ],
   "source": [
    "# num_joints= 3\n",
    "# deltas = np.arange(num_joints)\n",
    "# np.cumsum(deltas * np.concatenate([np.eye(num_joints), -np.eye(num_joints)], 0), 1)"
   ]
  },
  {
   "cell_type": "code",
   "execution_count": 24,
   "id": "98011d14-8ff7-43c6-b1ac-a92995ef10a8",
   "metadata": {
    "tags": []
   },
   "outputs": [],
   "source": [
    "num_joints = 4\n",
    "lengths = np.array([7, 6, 5, 3])\n",
    "\n",
    "\n",
    "# angles = np.array([0.5, 0.5, 0.5, 0.5]) * PI_CONSTANT\n",
    "angles = np.array([2 / 3, 1 / 3, -1/3, 0]) * PI\n",
    "# angles = np.array([2.93215314, 3.29867229, 1.46607657, 3.19395253])\n",
    "# angles = (PI_CONSTANT - np.array([1.98967535, 2.77507351, 3.56047167, -PI_CONSTANT])) % DOUBLE_PI_CONSTANT\n",
    "\n",
    "delta_numbers = np.array([120] * num_joints)\n",
    "angles_constraints = [(1 - 10 / 180) * np.pi] * 4"
   ]
  },
  {
   "cell_type": "code",
   "execution_count": 25,
   "id": "71d60c9e-fdce-4808-a0eb-ce68970ffb41",
   "metadata": {
    "tags": []
   },
   "outputs": [
    {
     "ename": "TypeError",
     "evalue": "unhashable type: 'numpy.ndarray'",
     "output_type": "error",
     "traceback": [
      "\u001b[0;31m---------------------------------------------------------------------------\u001b[0m",
      "\u001b[0;31mTypeError\u001b[0m                                 Traceback (most recent call last)",
      "Cell \u001b[0;32mIn[25], line 2\u001b[0m\n\u001b[1;32m      1\u001b[0m sup \u001b[38;5;241m=\u001b[39m Manipulator_2d_supervisor(num_joints, lengths, delta_numbers, angles_constraints)\n\u001b[0;32m----> 2\u001b[0m test_random_state \u001b[38;5;241m=\u001b[39m sup\u001b[38;5;241m.\u001b[39mgenerate_random_state()\n\u001b[1;32m      3\u001b[0m test_mann \u001b[38;5;241m=\u001b[39m Manipulator_2d(num_joints, lengths, np\u001b[38;5;241m.\u001b[39marray([\u001b[38;5;241m2.04203522\u001b[39m, \u001b[38;5;241m1.04719754\u001b[39m, \u001b[38;5;241m0.05235989\u001b[39m, \u001b[38;5;241m0.41887902\u001b[39m]), delta_numbers)\n\u001b[1;32m      4\u001b[0m test_mann\u001b[38;5;241m.\u001b[39mvisualize()\n",
      "Cell \u001b[0;32mIn[22], line 68\u001b[0m, in \u001b[0;36mManipulator_2d_supervisor.generate_random_state\u001b[0;34m(self)\u001b[0m\n\u001b[1;32m     66\u001b[0m random_delta_numbers \u001b[38;5;241m=\u001b[39m np\u001b[38;5;241m.\u001b[39mrandom\u001b[38;5;241m.\u001b[39mrandint(\u001b[38;5;241m0\u001b[39m, \u001b[38;5;28mself\u001b[39m\u001b[38;5;241m.\u001b[39mangle_discretization, \u001b[38;5;28mself\u001b[39m\u001b[38;5;241m.\u001b[39mnum_joints)\n\u001b[1;32m     67\u001b[0m random_state \u001b[38;5;241m=\u001b[39m random_delta_numbers \u001b[38;5;241m*\u001b[39m \u001b[38;5;28mself\u001b[39m\u001b[38;5;241m.\u001b[39mdeltas\n\u001b[0;32m---> 68\u001b[0m \u001b[38;5;28;01mwhile\u001b[39;00m \u001b[38;5;129;01mnot\u001b[39;00m \u001b[38;5;28mself\u001b[39m\u001b[38;5;241m.\u001b[39mposition_correctness(random_state):\n\u001b[1;32m     69\u001b[0m     random_delta_numbers \u001b[38;5;241m=\u001b[39m np\u001b[38;5;241m.\u001b[39mrandom\u001b[38;5;241m.\u001b[39mrandint(\u001b[38;5;241m0\u001b[39m, \u001b[38;5;28mself\u001b[39m\u001b[38;5;241m.\u001b[39mangle_discretization, \u001b[38;5;28mself\u001b[39m\u001b[38;5;241m.\u001b[39mnum_joints)\n\u001b[1;32m     70\u001b[0m     random_state \u001b[38;5;241m=\u001b[39m random_delta_numbers \u001b[38;5;241m*\u001b[39m \u001b[38;5;28mself\u001b[39m\u001b[38;5;241m.\u001b[39mdeltas\n",
      "Cell \u001b[0;32mIn[22], line 166\u001b[0m, in \u001b[0;36mManipulator_2d_supervisor.position_correctness\u001b[0;34m(self, angles)\u001b[0m\n\u001b[1;32m    165\u001b[0m \u001b[38;5;28;01mdef\u001b[39;00m \u001b[38;5;21mposition_correctness\u001b[39m(\u001b[38;5;28mself\u001b[39m, angles):\n\u001b[0;32m--> 166\u001b[0m     dots \u001b[38;5;241m=\u001b[39m \u001b[38;5;28mself\u001b[39m\u001b[38;5;241m.\u001b[39mcalculate_dots(angles)\n\u001b[1;32m    167\u001b[0m     \u001b[38;5;28;01mreturn\u001b[39;00m \u001b[38;5;28mself\u001b[39m\u001b[38;5;241m.\u001b[39mposition_intersection(dots) \u001b[38;5;129;01mand\u001b[39;00m \u001b[38;5;28mself\u001b[39m\u001b[38;5;241m.\u001b[39madjacent_joints_angles(angles) \u001b[38;5;129;01mand\u001b[39;00m (dots[\u001b[38;5;241m1\u001b[39m:, \u001b[38;5;241m1\u001b[39m] \u001b[38;5;241m>\u001b[39m \u001b[38;5;28mself\u001b[39m\u001b[38;5;241m.\u001b[39mground_level)\u001b[38;5;241m.\u001b[39mall() \u001b[38;5;129;01mand\u001b[39;00m \u001b[38;5;28mself\u001b[39m\u001b[38;5;241m.\u001b[39mend_is_not_touching_manupulator(dots)\n",
      "\u001b[0;31mTypeError\u001b[0m: unhashable type: 'numpy.ndarray'"
     ]
    }
   ],
   "source": [
    "sup = Manipulator_2d_supervisor(num_joints, lengths, delta_numbers, angles_constraints)\n",
    "test_random_state = sup.generate_random_state()\n",
    "test_mann = Manipulator_2d(num_joints, lengths, np.array([2.04203522, 1.04719754, 0.05235989, 0.41887902]), delta_numbers)\n",
    "test_mann.visualize()\n",
    "print(sup.calculate_distance_between_states(test_random_state, np.array([0.5, 0.5, 0.5, 0.5]) * PI_CONSTANT))"
   ]
  },
  {
   "cell_type": "code",
   "execution_count": 77,
   "id": "c4b8bc2e-1485-4c0e-99a9-920c7ae4a385",
   "metadata": {
    "tags": []
   },
   "outputs": [
    {
     "data": {
      "image/png": "[encoded data removed]",
      "text/plain": [
       "<Figure size 640x480 with 1 Axes>"
      ]
     },
     "metadata": {},
     "output_type": "display_data"
    },
    {
     "name": "stdout",
     "output_type": "stream",
     "text": [
      "0\n"
     ]
    }
   ],
   "source": [
    "points = np.array([[1, 2, 3],\n",
    "[1, 2 + 0.2, 3]])\n",
    "# print(points.shape)\n",
    "def some_strange_function(A,B,C):\n",
    "    left = (C[1] - A[1]) * (B[0] - A[0])\n",
    "    right = (B[1] - A[1]) * (C[0] - A[0])\n",
    "    len_cb = np.linalg.norm(C - B) ** 2\n",
    "    if right == 0 or abs(left - right)/ right < 0.2: return 0\n",
    "    if left > right: return 1\n",
    "    return -1\n",
    "\n",
    "t1 = plt.Polygon(points.T, color='red')\n",
    "plt.gca().add_patch(t1)\n",
    "plt.scatter(points[0, :], points[1, :])\n",
    "plt.show()\n",
    "print(some_strange_function(points[:, 0], points[:, 1], points[:, 2]))"
   ]
  },
  {
   "cell_type": "code",
   "execution_count": 96,
   "id": "5abb35ae-b456-409a-bdc6-3d35707c7035",
   "metadata": {
    "tags": []
   },
   "outputs": [
    {
     "data": {
      "image/png": "[encoded data removed]",
      "text/plain": [
       "<Figure size 640x480 with 1 Axes>"
      ]
     },
     "metadata": {},
     "output_type": "display_data"
    },
    {
     "name": "stdout",
     "output_type": "stream",
     "text": [
      "False False\n"
     ]
    }
   ],
   "source": [
    "def adjacent_joints_angles(angles):\n",
    "    '''\n",
    "    Returns True if angles are correct, else False\n",
    "    '''\n",
    "    if abs((PI + angles[0]) % TWO_PI) < angles_constraints[1]:\n",
    "        return False\n",
    "    for angle_index in range(num_joints - 1):\n",
    "        if abs((PI + angles[angle_index] - angles[angle_index + 1]) % TWO_PI) < angles_constraints[angle_index + 1]:\n",
    "            return False\n",
    "    return True\n",
    "\n",
    "def my_adj(angles):\n",
    "    values = np.diff(angles, prepend=0)\n",
    "    return not (np.abs((PI - values) % TWO_PI) < angles_constraints).any()\n",
    "\n",
    "def calculate_dots(angles):\n",
    "    dots = np.zeros((num_joints + 1, 2))\n",
    "    dots[1:, 1] = np.cumsum(np.sin(angles))\n",
    "    dots[1:, 0] = np.cumsum(np.cos(angles))\n",
    "    return dots\n",
    "\n",
    "num_joints= 4\n",
    "angles = np.array([1/4, -1/3, 1/6, 1/6]) * np.pi\n",
    "angles_constraints = np.array([(1 - 1/3) * np.pi] * 4)\n",
    "dots = calculate_dots(angles)\n",
    "plt.plot(dots[:,0], dots[:, 1])\n",
    "plt.show()\n",
    "print(adjacent_joints_angles(angles), my_adj(angles))"
   ]
  },
  {
   "cell_type": "code",
   "execution_count": 97,
   "id": "087c6fa1-c9d4-4217-b759-fe23f2f73eb5",
   "metadata": {
    "tags": []
   },
   "outputs": [],
   "source": [
    "class Manipulator_2d_supervisor():\n",
    "    def __init__(self, \n",
    "                 num_joints: int, \n",
    "                 lengths: np.ndarray, \n",
    "                 angle_discretization: int, \n",
    "                 angles_constraints: np.ndarray,\n",
    "                 ground_level: int = 0,\n",
    "                 distanse_between_edges: int = 0.2):\n",
    "        '''\n",
    "        initializing Manipulator supervisor\n",
    "        \n",
    "        num_joint: number of manipulator joints\n",
    "        length: np.ndarray of manipulator's arms length\n",
    "        angle_discretization: int value of how many bins of angles we will have. Number of bins is  TWO_PI / angle_discretization\n",
    "        angles_constraints: np.ndarray with shape num_joints with left and right_bounds. \\\n",
    "                            Absolute value of differrence between to near angles couln't be more than PI(1 - angles_constraints)\n",
    "        ground_level: float minimum level of joints positions.\n",
    "        distanse_between_edges: float minimum distance between edges\n",
    "        '''\n",
    "        self.num_joints = num_joints\n",
    "        self.lengths = lengths\n",
    "        self.radius = sum(self.lengths)\n",
    "        self.angle_discretization = angle_discretization\n",
    "        self.deltas = TWO_PI / angle_discretization\n",
    "        self.angles_constraints = angles_constraints\n",
    "        self.possible_moves = np.cumsum(self.deltas * np.concatenate([np.eye(num_joints), -np.eye(num_joints)], 0), 1)\n",
    "        self.ground_level = ground_level\n",
    "        self.distanse_between_edges = distanse_between_edges\n",
    "        \n",
    "    @lru_cache(maxsize=10**4) \n",
    "    def calculate_dots(self, angles):\n",
    "        '''\n",
    "        By angles of joints calculates coordinates of each joint.\n",
    "        \n",
    "        angles: angles of joints\n",
    "        return: dots - np.ndarray(num_joints, 2) with coordinates x,y of each joint\n",
    "        '''\n",
    "        dots = np.zeros((self.num_joints + 1, 2))\n",
    "        sin = np.sin(angles) * self.lengths\n",
    "        cos = np.cos(angles) * self.lengths\n",
    "        dots[1:, 1] = np.cumsum(sin)\n",
    "        dots[1:, 0] = np.cumsum(cos)\n",
    "        return dots\n",
    "    \n",
    "    @lru_cache(maxsize=10**4) \n",
    "    def calculate_end(self, angles):\n",
    "        '''\n",
    "        By angles of joints calculates coordinates of last point of manipulator.\n",
    "        \n",
    "        angles: angles of joints\n",
    "        return: (x, y) coordinates x,y of last point\n",
    "        '''\n",
    "        x = np.sum(np.sin(angles) * self.lengths)\n",
    "        y = np.sum(np.cos(angles) * self.lengths)\n",
    "        return (x, y)\n",
    "    \n",
    "    def calculate_distance_between_states(self, angles_1, angles_2):\n",
    "        '''\n",
    "        Calculates distanst between states like a difference between angles\n",
    "        distanse = sum(\n",
    "                        min(\n",
    "                            abs(angles_1[i] - angles_1[i]),\n",
    "                            TWO_PI - abs(angles_1[i] - angles_1[i])\n",
    "                            )\n",
    "                        )\n",
    "        '''\n",
    "        diffs = (np.abs(angles_1 - angles_2)) % TWO_PI\n",
    "        angle_diffs = np.minimum(diffs, (TWO_PI - diffs))\n",
    "        return angle_diffs.sum()\n",
    "    \n",
    "    def generate_random_state(self):\n",
    "        random_delta_numbers = np.random.randint(0, self.angle_discretization, self.num_joints)\n",
    "        random_state = random_delta_numbers * self.deltas\n",
    "        while not self.position_correctness(random_state):\n",
    "            random_delta_numbers = np.random.randint(0, self.angle_discretization, self.num_joints)\n",
    "            random_state = random_delta_numbers * self.deltas\n",
    "        return random_state\n",
    "\n",
    "    def orientation(self, A, B, C):\n",
    "        '''\n",
    "        A, B, C: points of triangle\n",
    "        return orientation of triangle ABC as +1, -1\n",
    "                if A is to close to BC segment return 0\n",
    "        '''\n",
    "        left = (C[1] - A[1]) * (B[0] - A[0])\n",
    "        right = (B[1] - A[1]) * (C[0] - A[0])\n",
    "        if right == 0 or abs(left - right) / right < self.distanse_between_edges:\n",
    "            return 0\n",
    "        if left > right: return 1\n",
    "        return -1\n",
    "    \n",
    "    def do_intersect(self, segment1, segment2): \n",
    "        '''\n",
    "        Check intersection of two segments\n",
    "        \n",
    "        segment1: coordinates of start and finish poits of segment1\n",
    "        segment2: coordinates of start and finish poits of segment2\n",
    "        \n",
    "        return True if has intersect and False otherwise\n",
    "        '''\n",
    "        A, B = segment1\n",
    "        C, D = segment2\n",
    "        o1 = orientation(A, C, D)\n",
    "        o2 = orientation(B, C, D)\n",
    "        o3 = orientation(A, B, C)\n",
    "        o4 = orientation(A, B, D)\n",
    "        return o1 * o2 * o3 * o4 == 0 or (o1 != o2 and o3 != o4)  \n",
    "\n",
    "    def position_intersection(self, dots):\n",
    "        '''\n",
    "        Returns True if NO self-intersection, else False\n",
    "        '''\n",
    "        for segment_1_index in range(self.num_joints - 1):\n",
    "            for segment_2_index in range(segment_1_index + 2, self.num_joints):\n",
    "                segment_1_dots = dots[segment_1_index: segment_1_index + 2]  \n",
    "                segment_2_dots = dots[segment_2_index: segment_2_index + 2]\n",
    "                if self.do_intersect(segment_1_dots, segment_2_dots):\n",
    "                    return False\n",
    "        return True\n",
    "\n",
    "    def adjacent_joints_angles(self, angles):\n",
    "        '''\n",
    "        Returns True if angles are correct, else False\n",
    "        '''\n",
    "        diffs = np.diff(angles, prepend=0)\n",
    "        return not (np.abs((PI - diffs) % TWO_PI) < self.angles_constraints).any()\n",
    "\n",
    "    def position_correctness(self, angles):\n",
    "        '''\n",
    "        Checking if possition is correct \n",
    "        input: angles of joints\n",
    "        return: True if position is correct and False otherwise\n",
    "        '''\n",
    "        if not self.adjacent_joints_angles(angles):\n",
    "            return False\n",
    "        dots = self.calculate_dots(angles)\n",
    "        return self.position_intersection(dots) and \\\n",
    "                (dots[1:, 1] > self.ground_level).all()\n",
    "\n",
    "    def get_successors(self, angles):\n",
    "        '''\n",
    "        Returns massive, which elements are [<elements of moves massive>, <x, y of end>]\n",
    "        '''\n",
    "        possible_neighbours = (self.possible_moves + angles) % TWO_PI\n",
    "        successors = []\n",
    "        for successor_state in possible_neighbours:\n",
    "            if self.position_correctness(successor_state):\n",
    "                successors.append([successor_state, self.calculate_end(successor_state)])\n",
    "        return successors\n",
    "\n",
    "    def are_states_directly_connected(self, begin_state, end_state):\n",
    "        connect_path = []\n",
    "        current_state = begin_state\n",
    "        while not self.calculate_distance_between_states(current_state, end_state) < 0.01:\n",
    "            print(f' current = {current_state}')\n",
    "            best_neighbour = None\n",
    "            for successor_state, move_cost, x, y in self.get_successors(current_state):\n",
    "                diffs = (np.abs(successor_state - end_state)) % TWO_PI\n",
    "                angle_diffs = np.minimum(diffs, (TWO_PI - diffs))\n",
    "\n",
    "                print(f'successor = {successor_state}, dist = {self.calculate_distance_between_states(successor_state, end_state)}, diff = {angle_diffs}')\n",
    "                if self.calculate_distance_between_states(successor_state, end_state) < self.calculate_distance_between_states(current_state, end_state):\n",
    "                    neighbour = Manipulator_2d_node(successor_state, parent=current_state) \n",
    "                    best_neighbour = neighbour\n",
    "                    connect_path.append(best_neighbour)\n",
    "                    current_state = successor_state     \n",
    "            diffs = (np.abs(successor_state - end_state)) % TWO_PI\n",
    "            angle_diffs = np.minimum(diffs, (2 * TWO_PI - diffs))\n",
    "            print(f'chosen = {best_neighbour.get_angles()}, dist = {self.calculate_distance_between_states(best_neighbour.get_angles(), end_state)}, diff = {angle_diffs}')\n",
    "            if best_neighbour is None:\n",
    "                return False, None\n",
    "        return True, connect_path\n",
    "    \n",
    "    def visualize_state(self, angles):\n",
    "        dots = self.calculate_dots(angles)\n",
    "        plt.figure(figsize=(10,6))\n",
    "        plt.axis([-self.radius, self.radius, 0, self.radius])\n",
    "        plt.plot(dots[:, 0], dots[:, 1])\n",
    "        plt.scatter(dots[:, 0], dots[:, 1])"
   ]
  },
  {
   "cell_type": "code",
   "execution_count": null,
   "id": "38886847-63c1-4dda-9847-1e3448a24d1f",
   "metadata": {},
   "outputs": [],
   "source": []
  }
 ],
 "metadata": {
  "kernelspec": {
   "display_name": "Python 3 (ipykernel)",
   "language": "python",
   "name": "python3"
  },
  "language_info": {
   "codemirror_mode": {
    "name": "ipython",
    "version": 3
   },
   "file_extension": ".py",
   "mimetype": "text/x-python",
   "name": "python",
   "nbconvert_exporter": "python",
   "pygments_lexer": "ipython3",
   "version": "3.11.5"
  }
 },
 "nbformat": 4,
 "nbformat_minor": 5
}
