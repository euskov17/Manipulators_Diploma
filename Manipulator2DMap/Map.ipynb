{
 "cells": [
  {
   "cell_type": "code",
   "execution_count": 38,
   "id": "1e54f13b-f568-4d10-a9f1-bfc4af0b28ac",
   "metadata": {
    "tags": []
   },
   "outputs": [],
   "source": [
    "from typing import List \n",
    "from Manipulator2DMap.Manipulator2D import Manipulator_2d_supervisor\n",
    "from Manipulator2DMap.obstacle import Obstacle\n",
    "from abc import ABC, abstractmethod\n",
    "import numpy as np"
   ]
  },
  {
   "cell_type": "code",
   "execution_count": null,
   "id": "5ed1d5b2-32a9-45f4-aa3a-3c0e169b326b",
   "metadata": {},
   "outputs": [],
   "source": []
  },
  {
   "cell_type": "code",
   "execution_count": 13,
   "id": "4fc45f12",
   "metadata": {},
   "outputs": [
    {
     "data": {
      "text/plain": [
       "array([-10,   1,   1,   1,   1,   1,   1,   1,   1,   1])"
      ]
     },
     "execution_count": 13,
     "metadata": {},
     "output_type": "execute_result"
    }
   ],
   "source": [
    "class GridMap2D:\n",
    "    eps = 1e-4\n",
    "\n",
    "    def __init__(self, manipulator: Manipulator_2d_supervisor,\n",
    "                       start_position,\n",
    "                       goal_position,\n",
    "                       heuristic = None,\n",
    "                       obstacles: List[Obstacle] = []):\n",
    "        '''\n",
    "        Constructor of map\n",
    "        manipulator: Manipulator_2d_supervisor to work with manipulator\n",
    "        start_position: start_position\n",
    "        goal_position = ((x, y), angle) x,y are cords of finish\n",
    "                        angle is finish angle\n",
    "        '''\n",
    "        self.manipulator = manipulator\n",
    "        r = manipulator.radius\n",
    "        self.map = np.zeros((r * 2, r))\n",
    "        self.start_position = start_position\n",
    "        self.goal_position, self.goal_angle = goal_position \n",
    "        self.heuristic_function = heuristic\n",
    "        self.obstacles = obstacles\n",
    "        \n",
    "        \n",
    "    def heuristic(self, current_state):\n",
    "        return self.heuristic(current_state, self.goal_position)\n",
    "        \n",
    "    def get_start(self):\n",
    "        return self.start_position\n",
    "\n",
    "    def valid(self, manipulator: Manipulator_2d_supervisor):\n",
    "        dots = manipulator.calculate_dots()\n",
    "\n",
    "        for obs in self.obstacles:\n",
    "            if obs.intersect(manipulator):\n",
    "                return False\n",
    "        \n",
    "        return True\n",
    "    \n",
    "    def dist_to_finish(self, manipulator: Manipulator_2d_supervisor):\n",
    "        return np.linalg.norm(manipulator.calculate_dots()[-1] - self.goal_position)\n",
    "    \n",
    "    def heuristic(self, state: Manipulator_2d_supervisor):\n",
    "        if self.heuristic is not None:\n",
    "            return self.heuristic_function(state, self.goal_position)\n",
    "        return self.dist_to_finish(state)\n",
    "    \n",
    "    def get_successors(self, angles):\n",
    "        successors = []\n",
    "        for succ in self.manipulator.get_successors(angles):\n",
    "            if self.valid(succ):\n",
    "                successors.append((succ, 1))\n",
    "        return successors\n",
    "\n",
    "    def angle_to_finish(self, manipulator: Manipulator_2d_supervisor):\n",
    "        return fabs(manipulator.get_angles()[-1], self.goal_angle)\n",
    "\n",
    "    def is_in_finish(self, manipulator: Manipulator):\n",
    "        return self.dist_to_finish(manipulator) < self.eps and angle_to_finish(manipulator) < eps\n",
    "    \n",
    "    def visualise_path(self, path):\n",
    "        def visualize_state(path, state=0):\n",
    "            # plt.rc('grid', linestyle=\"-\", color='black')\n",
    "            self.manipulator.visualize_state(path[state])\n",
    "            \n",
    "        interact(self.visualize_state, path_state=(0, len(path) - 1, 1))\n",
    "        plt.show()"
   ]
  }
 ],
 "metadata": {
  "kernelspec": {
   "display_name": "Python 3 (ipykernel)",
   "language": "python",
   "name": "python3"
  },
  "language_info": {
   "codemirror_mode": {
    "name": "ipython",
    "version": 3
   },
   "file_extension": ".py",
   "mimetype": "text/x-python",
   "name": "python",
   "nbconvert_exporter": "python",
   "pygments_lexer": "ipython3",
   "version": "3.11.5"
  }
 },
 "nbformat": 4,
 "nbformat_minor": 5
}
